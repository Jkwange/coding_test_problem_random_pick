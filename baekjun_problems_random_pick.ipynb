{
 "cells": [
  {
   "cell_type": "code",
   "execution_count": 14,
   "metadata": {},
   "outputs": [],
   "source": [
    "import time\n",
    "import concurrent.futures\n",
    "import threading\n",
    "from selenium import webdriver\n",
    "from selenium.webdriver.common.by import By\n",
    "from selenium.webdriver.chrome.service import Service\n",
    "from selenium.webdriver.support.ui import WebDriverWait\n",
    "from selenium.webdriver.support import expected_conditions as EC\n",
    "from webdriver_manager.chrome import ChromeDriverManager\n",
    "from bs4 import BeautifulSoup\n",
    "import random\n"
   ]
  },
  {
   "cell_type": "code",
   "execution_count": 15,
   "metadata": {},
   "outputs": [],
   "source": [
    "# 동기화를 위한 Lock 객체 생성\n",
    "lock = threading.Lock()\n",
    "\n",
    "all_problems = []\n",
    "\n",
    "# 중복 체크를 위한 함수\n",
    "def is_duplicate_problem(problems_list, link):\n",
    "    return any(problem['link'] == link for problem in problems_list)\n",
    "\n",
    "def extract_problem_data(html):\n",
    "    soup = BeautifulSoup(html, 'html.parser')\n",
    "    problem_rows = soup.select(\"tr\")\n",
    "\n",
    "    problems = []\n",
    "    for row in problem_rows:\n",
    "        try:\n",
    "            title_elem = row.select_one(\"span.__Latex__\")\n",
    "            link_elem = row.find('a', href=True)\n",
    "            difficulty_img = row.select_one(\"img\")\n",
    "\n",
    "            tags = []\n",
    "            tag_elements = row.select(\"a.css-18la3yb\")\n",
    "            for tag_element in tag_elements:\n",
    "                korean_tag_elem = tag_element.select_one(\"span.css-1rqtlpb\")\n",
    "                english_tag_elem = tag_element.select_one(\"span.css-1pecrf1\")\n",
    "\n",
    "                korean_tag = korean_tag_elem.text.strip() if korean_tag_elem else None\n",
    "                english_tag = english_tag_elem.text.strip() if english_tag_elem else None\n",
    "\n",
    "                if korean_tag and english_tag:\n",
    "                    tags.append(f\"#{korean_tag} ({english_tag})\")\n",
    "                elif korean_tag:\n",
    "                    tags.append(f\"#{korean_tag}\")\n",
    "                elif english_tag:\n",
    "                    tags.append(f\"#{english_tag}\")\n",
    "\n",
    "            solved_count_elem = row.select_one(\"div.css-1ujcjo0\")\n",
    "            avg_attempt_elem = row.select(\"div.css-1ujcjo0\")\n",
    "\n",
    "            title = title_elem.text.strip() if title_elem else \"No Title\"\n",
    "            link = link_elem['href'] if link_elem else \"No Link\"\n",
    "            solved_count = solved_count_elem.text.strip() if solved_count_elem else \"No Data\"\n",
    "            avg_attempt = avg_attempt_elem[1].text.strip() if len(avg_attempt_elem) > 1 else \"No Data\"\n",
    "\n",
    "            difficulty = difficulty_img['alt'] if difficulty_img else \"No Difficulty\"\n",
    "\n",
    "            problems.append({\n",
    "                \"title\": title,\n",
    "                \"tags\": tags,\n",
    "                \"solved_count\": solved_count,\n",
    "                \"average_attempts\": avg_attempt,\n",
    "                \"link\": link,\n",
    "                \"difficulty\": difficulty\n",
    "            })\n",
    "        except Exception as e:\n",
    "            print(f\"문제 정보 추출 중 오류 발생: {e}\")\n",
    "            continue\n",
    "\n",
    "    return problems\n",
    "\n",
    "def load_problem_data(url):\n",
    "    options = webdriver.ChromeOptions()\n",
    "    options.add_argument(\"--headless\")\n",
    "    options.add_argument(\"--disable-gpu\")\n",
    "    options.add_argument(\"--no-sandbox\")\n",
    "    options.add_argument(\"--disable-dev-shm-usage\")\n",
    "    local_driver = webdriver.Chrome(service=Service(ChromeDriverManager().install()), options=options)\n",
    "\n",
    "    try:\n",
    "        local_driver.get(url)\n",
    "\n",
    "        # 페이지가 로드될 때까지 기다림\n",
    "        WebDriverWait(local_driver, 30).until(\n",
    "            EC.presence_of_element_located((By.CSS_SELECTOR, 'tr'))\n",
    "        )\n",
    "\n",
    "        # 스크롤을 최하단까지 진행하여 모든 요소 로드\n",
    "        local_driver.execute_script(\"window.scrollTo(0, document.body.scrollHeight);\")\n",
    "        time.sleep(2)  # 페이지 로딩을 위한 대기\n",
    "\n",
    "        # 모든 버튼을 클릭하여 페이지 업데이트\n",
    "        buttons = local_driver.find_elements(By.CLASS_NAME, 'css-gv0s7n')\n",
    "        for button in buttons:\n",
    "            try:\n",
    "                local_driver.execute_script(\"arguments[0].scrollIntoView({behavior: 'smooth', block: 'center'});\", button)\n",
    "                WebDriverWait(local_driver, 10).until(\n",
    "                    EC.element_to_be_clickable(button)\n",
    "                )\n",
    "                button.click()\n",
    "                time.sleep(2)  # 페이지 업데이트를 위한 대기\n",
    "            except Exception as e:\n",
    "                continue\n",
    "\n",
    "        html = local_driver.page_source\n",
    "        problems = extract_problem_data(html)\n",
    "\n",
    "        with lock:\n",
    "            for problem in problems:\n",
    "                if not is_duplicate_problem(all_problems, problem['link']):\n",
    "                    all_problems.append(problem)\n",
    "\n",
    "    finally:\n",
    "        local_driver.quit()\n",
    "\n",
    "def load_problems_parallel():\n",
    "    urls1 = [f\"https://solved.ac/problems/level/7?page={i}\" for i in range(1, 19)] # 레벨 7\n",
    "    urls2 = [f\"https://solved.ac/problems/level/8?page={i}\" for i in range(1, 20)] # 레벨 8\n",
    "    urls3 = [f\"https://solved.ac/problems/level/9?page={i}\" for i in range(1, 20)] # 레벨 9\n",
    "\n",
    "    with concurrent.futures.ThreadPoolExecutor(max_workers=5) as executor:\n",
    "        executor.map(load_problem_data, urls1)\n",
    "        executor.map(load_problem_data, urls2)\n",
    "        executor.map(load_problem_data, urls3)\n"
   ]
  },
  {
   "cell_type": "code",
   "execution_count": 10,
   "metadata": {},
   "outputs": [
    {
     "name": "stdout",
     "output_type": "stream",
     "text": [
      "버튼 클릭 실패: Message: \n",
      "\n",
      "버튼 클릭 실패: Message: \n",
      "\n",
      "버튼 클릭 실패: Message: \n",
      "\n"
     ]
    }
   ],
   "source": [
    "load_problems_parallel()"
   ]
  },
  {
   "cell_type": "code",
   "execution_count": 11,
   "metadata": {},
   "outputs": [
    {
     "name": "stdout",
     "output_type": "stream",
     "text": [
      "총 문제 수: 151\n"
     ]
    }
   ],
   "source": [
    "print(f\"총 문제 수: {len(all_problems)}\")"
   ]
  },
  {
   "cell_type": "code",
   "execution_count": 12,
   "metadata": {},
   "outputs": [
    {
     "name": "stdout",
     "output_type": "stream",
     "text": [
      "문제 1\n",
      "제목: 올바른 배열\n",
      "태그: \n",
      "푼 사람 수: 1,970\n",
      "평균 시도: 2.11\n",
      "난이도: Silver IV\n",
      "링크: https://www.acmicpc.net/problem/1337\n",
      "\n",
      "문제 2\n",
      "제목: 스위치 켜고 끄기\n",
      "태그: \n",
      "푼 사람 수: 13,201\n",
      "평균 시도: 4.90\n",
      "난이도: Silver IV\n",
      "링크: https://www.acmicpc.net/problem/1244\n",
      "\n"
     ]
    }
   ],
   "source": [
    "if all_problems:\n",
    "    random_problems = random.sample(all_problems, min(2, len(all_problems)))\n",
    "    for idx, problem in enumerate(random_problems):\n",
    "        print(f\"문제 {idx + 1}\")\n",
    "        print(f\"제목: {problem['title']}\")\n",
    "        print(f\"태그: {', '.join(problem['tags'])}\")\n",
    "        print(f\"푼 사람 수: {problem['solved_count']}\")\n",
    "        print(f\"평균 시도: {problem['average_attempts']}\")\n",
    "        print(f\"난이도: {problem['difficulty']}\")  # 난이도 출력 추가\n",
    "        print(f\"링크: {problem['link']}\\n\")\n",
    "else:\n",
    "    print(\"문제를 찾을 수 없습니다.\")"
   ]
  },
  {
   "cell_type": "code",
   "execution_count": null,
   "metadata": {},
   "outputs": [],
   "source": []
  }
 ],
 "metadata": {
  "kernelspec": {
   "display_name": "Python 3",
   "language": "python",
   "name": "python3"
  },
  "language_info": {
   "codemirror_mode": {
    "name": "ipython",
    "version": 3
   },
   "file_extension": ".py",
   "mimetype": "text/x-python",
   "name": "python",
   "nbconvert_exporter": "python",
   "pygments_lexer": "ipython3",
   "version": "3.12.3"
  }
 },
 "nbformat": 4,
 "nbformat_minor": 2
}
