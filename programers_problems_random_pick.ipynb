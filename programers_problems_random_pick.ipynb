{
 "cells": [
  {
   "cell_type": "code",
   "execution_count": 5,
   "metadata": {},
   "outputs": [],
   "source": [
    "import time\n",
    "import concurrent.futures\n",
    "import threading\n",
    "from selenium import webdriver\n",
    "from selenium.webdriver.common.by import By\n",
    "from selenium.webdriver.chrome.service import Service\n",
    "from selenium.webdriver.support.ui import WebDriverWait\n",
    "from selenium.webdriver.support import expected_conditions as EC\n",
    "from webdriver_manager.chrome import ChromeDriverManager\n",
    "from bs4 import BeautifulSoup\n",
    "import random"
   ]
  },
  {
   "cell_type": "code",
   "execution_count": 6,
   "metadata": {},
   "outputs": [],
   "source": [
    "# 동기화를 위한 Lock 객체 생성\n",
    "lock = threading.Lock()\n",
    "\n",
    "all_problems_second = []\n",
    "all_problems_third = []\n",
    "\n",
    "def is_duplicate_problem(problems_list, link):\n",
    "    return any(problem['link'] == link for problem in problems_list)\n",
    "\n",
    "def load_problem_data(url, grade_type):\n",
    "    # 각 스레드마다 독립된 웹 드라이버 인스턴스 생성\n",
    "    options = webdriver.ChromeOptions()\n",
    "    options.add_argument(\"--headless\")\n",
    "    local_driver = webdriver.Chrome(service=Service(ChromeDriverManager().install()), options=options)\n",
    "    \n",
    "    try:\n",
    "        local_driver.get(url)\n",
    "        time.sleep(3)\n",
    "        \n",
    "        WebDriverWait(local_driver, 10).until(\n",
    "            EC.presence_of_element_located((By.CSS_SELECTOR, \"td.title > div > a\"))\n",
    "        )\n",
    "        \n",
    "        html = local_driver.page_source\n",
    "        soup = BeautifulSoup(html, 'html.parser')\n",
    "\n",
    "        problems = soup.select(\"td.title > div > a\")\n",
    "        levels = soup.select(\"td.level\")\n",
    "        acceptance_rates = soup.select(\"td.acceptance-rate\")\n",
    "        \n",
    "        print(f\"[디버깅] URL: {url}, 가져온 문제 수: {len(problems)}\")\n",
    "        \n",
    "        filtered_problems = []\n",
    "        \n",
    "        for problem, level, acceptance_rate_tag in zip(problems, levels, acceptance_rates):\n",
    "            title = problem.text.strip()\n",
    "            link = f\"https://school.programmers.co.kr{problem['href']}\"\n",
    "            level_text = level.text.strip()\n",
    "            acceptance_rate_text = acceptance_rate_tag.text.strip() if acceptance_rate_tag else \"Unknown\"\n",
    "\n",
    "            try:\n",
    "                acceptance_rate = int(''.join(filter(str.isdigit, acceptance_rate_text)))\n",
    "            except ValueError:\n",
    "                acceptance_rate = None\n",
    "\n",
    "            # 동기화 처리: 리스트에 접근할 때 Lock 사용\n",
    "            with lock:\n",
    "                if grade_type == 'second' and not is_duplicate_problem(all_problems_second, link):\n",
    "                    if acceptance_rate and 45 <= acceptance_rate <= 70 and level_text in ['Lv. 1', 'Lv. 2']: # 레벨 1, 레벨 2\n",
    "                        all_problems_second.append({\n",
    "                            \"title\": title,\n",
    "                            \"link\": link,\n",
    "                            \"level\": level_text,\n",
    "                            \"acceptance_rate\": acceptance_rate_text\n",
    "                        })\n",
    "                elif grade_type == 'third' and not is_duplicate_problem(all_problems_third, link):\n",
    "                    if acceptance_rate and 15 <= acceptance_rate <= 40 and level_text in ['Lv. 2', 'Lv. 3', 'Lv. 4']: #레벨 2, 레벨 3, 레벨 4\n",
    "                        all_problems_third.append({\n",
    "                            \"title\": title,\n",
    "                            \"link\": link,\n",
    "                            \"level\": level_text,\n",
    "                            \"acceptance_rate\": acceptance_rate_text\n",
    "                        })\n",
    "    finally:\n",
    "        local_driver.quit()  # 각 스레드의 드라이버를 종료\n",
    "\n",
    "# 병렬 처리해서 각 페이지 동시 크롤링하도록 하는 함수\n",
    "def load_problems_parallel():\n",
    "    urls_second = [f\"https://school.programmers.co.kr/learn/challenges?order=recent&page={i}&levels=2%2C1&languages=java%2Ccpp%2Cpython3\" for i in range(1, 12)]\n",
    "    urls_third = [f\"https://school.programmers.co.kr/learn/challenges?order=recent&page={i}&levels=2%2C3%2C4&languages=java%2Ccpp%2Cpython3\" for i in range(1, 12)]\n",
    "    \n",
    "    with concurrent.futures.ThreadPoolExecutor() as executor:\n",
    "        # 2학년 문제\n",
    "        results_second = executor.map(lambda url: load_problem_data(url, 'second'), urls_second)\n",
    "        for result in results_second:\n",
    "            pass\n",
    "\n",
    "        # 3학년 문제\n",
    "        results_third = executor.map(lambda url: load_problem_data(url, 'third'), urls_third)\n",
    "        for result in results_third:\n",
    "            pass \n"
   ]
  },
  {
   "cell_type": "code",
   "execution_count": 10,
   "metadata": {},
   "outputs": [
    {
     "name": "stdout",
     "output_type": "stream",
     "text": [
      "[디버깅] URL: https://school.programmers.co.kr/learn/challenges?order=recent&page=5&levels=2%2C1&languages=java%2Ccpp%2Cpython3, 가져온 문제 수: 20\n",
      "[디버깅] URL: https://school.programmers.co.kr/learn/challenges?order=recent&page=11&levels=2%2C1&languages=java%2Ccpp%2Cpython3, 가져온 문제 수: 3\n",
      "[디버깅] URL: https://school.programmers.co.kr/learn/challenges?order=recent&page=1&levels=2%2C1&languages=java%2Ccpp%2Cpython3, 가져온 문제 수: 20\n",
      "[디버깅] URL: https://school.programmers.co.kr/learn/challenges?order=recent&page=7&levels=2%2C1&languages=java%2Ccpp%2Cpython3, 가져온 문제 수: 20\n",
      "[디버깅] URL: https://school.programmers.co.kr/learn/challenges?order=recent&page=8&levels=2%2C1&languages=java%2Ccpp%2Cpython3, 가져온 문제 수: 20\n",
      "[디버깅] URL: https://school.programmers.co.kr/learn/challenges?order=recent&page=6&levels=2%2C1&languages=java%2Ccpp%2Cpython3, 가져온 문제 수: 20\n",
      "[디버깅] URL: https://school.programmers.co.kr/learn/challenges?order=recent&page=10&levels=2%2C1&languages=java%2Ccpp%2Cpython3, 가져온 문제 수: 20\n",
      "[디버깅] URL: https://school.programmers.co.kr/learn/challenges?order=recent&page=2&levels=2%2C1&languages=java%2Ccpp%2Cpython3, 가져온 문제 수: 20\n",
      "[디버깅] URL: https://school.programmers.co.kr/learn/challenges?order=recent&page=3&levels=2%2C1&languages=java%2Ccpp%2Cpython3, 가져온 문제 수: 20\n",
      "[디버깅] URL: https://school.programmers.co.kr/learn/challenges?order=recent&page=9&levels=2%2C1&languages=java%2Ccpp%2Cpython3, 가져온 문제 수: 20\n",
      "[디버깅] URL: https://school.programmers.co.kr/learn/challenges?order=recent&page=4&levels=2%2C1&languages=java%2Ccpp%2Cpython3, 가져온 문제 수: 20\n",
      "[디버깅] URL: https://school.programmers.co.kr/learn/challenges?order=recent&page=9&levels=2%2C3%2C4&languages=java%2Ccpp%2Cpython3, 가져온 문제 수: 20\n",
      "[디버깅] URL: https://school.programmers.co.kr/learn/challenges?order=recent&page=2&levels=2%2C3%2C4&languages=java%2Ccpp%2Cpython3, 가져온 문제 수: 20\n",
      "[디버깅] URL: https://school.programmers.co.kr/learn/challenges?order=recent&page=7&levels=2%2C3%2C4&languages=java%2Ccpp%2Cpython3, 가져온 문제 수: 20\n",
      "[디버깅] URL: https://school.programmers.co.kr/learn/challenges?order=recent&page=3&levels=2%2C3%2C4&languages=java%2Ccpp%2Cpython3, 가져온 문제 수: 20\n",
      "[디버깅] URL: https://school.programmers.co.kr/learn/challenges?order=recent&page=6&levels=2%2C3%2C4&languages=java%2Ccpp%2Cpython3, 가져온 문제 수: 20\n",
      "[디버깅] URL: https://school.programmers.co.kr/learn/challenges?order=recent&page=4&levels=2%2C3%2C4&languages=java%2Ccpp%2Cpython3, 가져온 문제 수: 20\n",
      "[디버깅] URL: https://school.programmers.co.kr/learn/challenges?order=recent&page=8&levels=2%2C3%2C4&languages=java%2Ccpp%2Cpython3, 가져온 문제 수: 20\n",
      "[디버깅] URL: https://school.programmers.co.kr/learn/challenges?order=recent&page=5&levels=2%2C3%2C4&languages=java%2Ccpp%2Cpython3, 가져온 문제 수: 20\n",
      "[디버깅] URL: https://school.programmers.co.kr/learn/challenges?order=recent&page=1&levels=2%2C3%2C4&languages=java%2Ccpp%2Cpython3, 가져온 문제 수: 20\n",
      "[디버깅] URL: https://school.programmers.co.kr/learn/challenges?order=recent&page=11&levels=2%2C3%2C4&languages=java%2Ccpp%2Cpython3, 가져온 문제 수: 15\n",
      "[디버깅] URL: https://school.programmers.co.kr/learn/challenges?order=recent&page=10&levels=2%2C3%2C4&languages=java%2Ccpp%2Cpython3, 가져온 문제 수: 20\n"
     ]
    }
   ],
   "source": [
    "# 문제 데이터를 병렬로 로드\n",
    "# 약 1~2분 소요\n",
    "load_problems_parallel()"
   ]
  },
  {
   "cell_type": "code",
   "execution_count": 11,
   "metadata": {},
   "outputs": [
    {
     "name": "stdout",
     "output_type": "stream",
     "text": [
      "2학년 문제 개수: 106\n",
      "3학년 문제 개수: 80\n"
     ]
    }
   ],
   "source": [
    "print(\"2학년 문제 개수: \"+str(len(all_problems_second)))\n",
    "print(\"3학년 문제 개수: \"+str(len(all_problems_third)))"
   ]
  },
  {
   "cell_type": "code",
   "execution_count": 12,
   "metadata": {},
   "outputs": [
    {
     "name": "stdout",
     "output_type": "stream",
     "text": [
      "2학년 문제\n",
      "문제 제목 1: 가장 큰 정사각형 찾기\n",
      "문제 링크: https://school.programmers.co.kr/learn/courses/30/lessons/12905\n",
      "난이도: Lv. 2\n",
      "정답률: 46%\n",
      "\n",
      "문제 제목 2: 키패드 누르기\n",
      "문제 링크: https://school.programmers.co.kr/learn/courses/30/lessons/67256\n",
      "난이도: Lv. 1\n",
      "정답률: 52%\n",
      "\n",
      "**************************************************\n",
      "\n",
      "3학년 문제\n",
      "문제 제목: 징검다리\n",
      "문제 링크: https://school.programmers.co.kr/learn/courses/30/lessons/43236\n",
      "난이도: Lv. 4\n",
      "정답률: 27%\n"
     ]
    }
   ],
   "source": [
    "if len(all_problems_second) >= 2:\n",
    "    random_problems = random.sample(all_problems_second, 2)  # 중복 없이 두 문제 선택\n",
    "    print(\"2학년 문제\")\n",
    "    print(f\"문제 제목 1: {random_problems[0]['title']}\")\n",
    "    print(f\"문제 링크: {random_problems[0]['link']}\")\n",
    "    print(f\"난이도: {random_problems[0]['level']}\")\n",
    "    print(f\"정답률: {random_problems[0]['acceptance_rate']}\\n\")\n",
    "    \n",
    "    print(f\"문제 제목 2: {random_problems[1]['title']}\")\n",
    "    print(f\"문제 링크: {random_problems[1]['link']}\")\n",
    "    print(f\"난이도: {random_problems[1]['level']}\")\n",
    "    print(f\"정답률: {random_problems[1]['acceptance_rate']}\\n\")\n",
    "    print(\"**************************************************\\n\")\n",
    "elif len(all_problems_second) == 1:\n",
    "    print(\"2학년 문제\")\n",
    "    print(f\"문제 제목: {all_problems_second[0]['title']}\")\n",
    "    print(f\"문제 링크: {all_problems_second[0]['link']}\")\n",
    "    print(f\"난이도: {all_problems_second[0]['level']}\")\n",
    "    print(f\"정답률: {all_problems_second[0]['acceptance_rate']}\\n\")\n",
    "    print(\"**************************************************\\n\")\n",
    "else:\n",
    "    print(\"2학년 문제를 찾을 수 없습니다.\")\n",
    "\n",
    "\n",
    "if all_problems_third:\n",
    "    random_problem = random.choice(all_problems_third)\n",
    "    print(\"3학년 문제\")\n",
    "    print(f\"문제 제목: {random_problem['title']}\")\n",
    "    print(f\"문제 링크: {random_problem['link']}\")\n",
    "    print(f\"난이도: {random_problem['level']}\")\n",
    "    print(f\"정답률: {random_problem['acceptance_rate']}\")\n",
    "else:\n",
    "    print(\"3학년 문제를 찾을 수 없습니다.\")\n"
   ]
  },
  {
   "cell_type": "code",
   "execution_count": null,
   "metadata": {},
   "outputs": [],
   "source": []
  }
 ],
 "metadata": {
  "kernelspec": {
   "display_name": "Python 3",
   "language": "python",
   "name": "python3"
  },
  "language_info": {
   "codemirror_mode": {
    "name": "ipython",
    "version": 3
   },
   "file_extension": ".py",
   "mimetype": "text/x-python",
   "name": "python",
   "nbconvert_exporter": "python",
   "pygments_lexer": "ipython3",
   "version": "3.12.3"
  }
 },
 "nbformat": 4,
 "nbformat_minor": 2
}
